{
 "cells": [
  {
   "cell_type": "markdown",
   "metadata": {},
   "source": [
    "# Analyzing MTA's 1 Train Actual Arrival Time vs. Scheduled Arrival Time"
   ]
  },
  {
   "cell_type": "markdown",
   "metadata": {},
   "source": [
    "### by Team Don't Take the G Train, Take the W\n",
    "#### Grace Cuenca, Taylor Wong and Joyce Wu"
   ]
  },
  {
   "cell_type": "code",
   "execution_count": null,
   "metadata": {},
   "outputs": [
    {
     "name": "stderr",
     "output_type": "stream",
     "text": [
      "/Users/joycewu/anaconda2/lib/python2.7/site-packages/matplotlib/font_manager.py:280: UserWarning: Matplotlib is building the font cache using fc-list. This may take a moment.\n",
      "  'Matplotlib is building the font cache using fc-list. '\n"
     ]
    }
   ],
   "source": [
    "import numpy as np\n",
    "import matplotlib.pyplot as plt\n",
    "import datetime\n",
    "import csv "
   ]
  },
  {
   "cell_type": "markdown",
   "metadata": {},
   "source": [
    "##### Hypothesis: New York City MTA Subway trains always come late."
   ]
  },
  {
   "cell_type": "markdown",
   "metadata": {},
   "source": [
    "##### Abstract: We came up with the idea to compare scheduled arrival times vs. actual arrival times because we use the subway daily, and we all know the subways are often not on time. We used the MTA's datamine API and official documentation to pull real time data. We used a schedule handbook that listed out scheduled arrival times which was also created by the MTA. "
   ]
  },
  {
   "cell_type": "code",
   "execution_count": null,
   "metadata": {},
   "outputs": [],
   "source": [
    "time_list = []\n",
    "def csv_to_list(file):\n",
    "    with open(file, 'r') as csvfile:\n",
    "        csv_reader = csv.reader(csvfile, delimiter=',')\n",
    "        for row in csv_reader:\n",
    "            stop_time = []\n",
    "            stop_time.append(row[0])\n",
    "            stop_time.append(row[1])\n",
    "            \n",
    "            time_list.append(stop_time)\n",
    "            \n",
    "csv_to_list('time_dif.csv')\n",
    "print time_list\n",
    "                \n",
    "def build_graph(list):\n",
    "    x = []\n",
    "    y = []\n",
    "    for item in list:\n",
    "        x.append(item[0][0:3])\n",
    "        y.append(item[1])\n",
    "    #print(x)\n",
    "    #print(y)\n",
    "    \n",
    "    plt.xlabel('Stop_ID')\n",
    "    plt.ylabel('Time (AST)')\n",
    "    plt.scatter(x,y)\n",
    "\n",
    "    plt.show()\n",
    "                \n",
    "fig = plt.figure()\n",
    "#plt.plot(will contain time difference data)\n",
    "plt.xlabel('stops')\n",
    "plt.ylabel('time difference')\n",
    "plt.show()"
   ]
  },
  {
   "cell_type": "code",
   "execution_count": null,
   "metadata": {
    "collapsed": true
   },
   "outputs": [],
   "source": [
    "#trends"
   ]
  },
  {
   "cell_type": "code",
   "execution_count": null,
   "metadata": {
    "collapsed": true
   },
   "outputs": [],
   "source": [
    "#conclusion"
   ]
  },
  {
   "cell_type": "markdown",
   "metadata": {},
   "source": [
    "##### Expanding The Project & Future Applications: We pulled data from 3 days: Saturday, Monday, and Tuesday. This is a small sample size of data, and is an innacurate represenatation of the time differences over a long period of time. In order to enhance this project, we would gather data from weeks, months, or years. Furthermore, we would analyze the time differences over other subway lines."
   ]
  }
 ],
 "metadata": {
  "kernelspec": {
   "display_name": "Python 2",
   "language": "python",
   "name": "python2"
  },
  "language_info": {
   "codemirror_mode": {
    "name": "ipython",
    "version": 2
   },
   "file_extension": ".py",
   "mimetype": "text/x-python",
   "name": "python",
   "nbconvert_exporter": "python",
   "pygments_lexer": "ipython2",
   "version": "2.7.13"
  }
 },
 "nbformat": 4,
 "nbformat_minor": 2
}
